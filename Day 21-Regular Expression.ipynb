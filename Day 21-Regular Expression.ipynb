{
 "cells": [
  {
   "cell_type": "code",
   "execution_count": 1,
   "metadata": {},
   "outputs": [],
   "source": [
    "import re\n"
   ]
  },
  {
   "cell_type": "code",
   "execution_count": 2,
   "metadata": {},
   "outputs": [],
   "source": [
    "a = '''My name is Harsh and my mother name is Vaishu\n",
    "My father name is Sachin and I am 20 years old and my ph no. is 8866089546'''"
   ]
  },
  {
   "cell_type": "code",
   "execution_count": 3,
   "metadata": {},
   "outputs": [
    {
     "data": {
      "text/plain": [
       "'My name is Harsh and my mother name is Vaishu\\nMy father name is Sachin and I am 20 years old and my ph no. is 8866089546'"
      ]
     },
     "execution_count": 3,
     "metadata": {},
     "output_type": "execute_result"
    }
   ],
   "source": [
    "a"
   ]
  },
  {
   "cell_type": "code",
   "execution_count": 4,
   "metadata": {},
   "outputs": [],
   "source": [
    "number = re.findall('8866089546',a)"
   ]
  },
  {
   "cell_type": "code",
   "execution_count": 22,
   "metadata": {},
   "outputs": [
    {
     "data": {
      "text/plain": [
       "['8866089546']"
      ]
     },
     "execution_count": 22,
     "metadata": {},
     "output_type": "execute_result"
    }
   ],
   "source": [
    "number"
   ]
  },
  {
   "cell_type": "code",
   "execution_count": 10,
   "metadata": {},
   "outputs": [],
   "source": [
    "number = re.findall('\\d',a) #\\d means single digit and  \\d+ means all"
   ]
  },
  {
   "cell_type": "code",
   "execution_count": 11,
   "metadata": {},
   "outputs": [
    {
     "data": {
      "text/plain": [
       "['2', '0', '8', '8', '6', '6', '0', '8', '9', '5', '4', '6']"
      ]
     },
     "execution_count": 11,
     "metadata": {},
     "output_type": "execute_result"
    }
   ],
   "source": [
    "number"
   ]
  },
  {
   "cell_type": "code",
   "execution_count": 12,
   "metadata": {},
   "outputs": [
    {
     "data": {
      "text/plain": [
       "['20', '8866089546']"
      ]
     },
     "execution_count": 12,
     "metadata": {},
     "output_type": "execute_result"
    }
   ],
   "source": [
    "number = re.findall('\\d+',a)\n",
    "number"
   ]
  },
  {
   "cell_type": "code",
   "execution_count": 7,
   "metadata": {},
   "outputs": [
    {
     "name": "stdout",
     "output_type": "stream",
     "text": [
      "valid\n"
     ]
    }
   ],
   "source": [
    "stri=input(\"enter a string: \")\n",
    "vali=re.match(\"ab*\",stri)\n",
    "if vali:\n",
    "  print(\"valid\")\n",
    "else:\n",
    "  print(\"invalid\")\n",
    "\n",
    "# a ab abb abbbb\n",
    "# b ba baba"
   ]
  },
  {
   "cell_type": "code",
   "execution_count": null,
   "metadata": {},
   "outputs": [],
   "source": [
    "import re\n",
    "inp = input(\"Enter any string: \")\n",
    "def check_me():\n",
    "  patterns = 'ab*'\n",
    "  if re.search(patterns, inp):\n",
    "    print(\"yes, matched\")\n",
    "  else:\n",
    "    return('Not matched!')\n",
    "\n",
    "check_me()"
   ]
  },
  {
   "cell_type": "code",
   "execution_count": null,
   "metadata": {},
   "outputs": [],
   "source": [
    "def pat():\n",
    "#str=input(\"enter any string!\")\n",
    "  stri=input(\"enter any string!:\")\n",
    "  pattern=\"ab*?\"\n",
    "  if re.findall(pattern,stri):\n",
    "    print(\"matched\")\n",
    "  else:\n",
    "    print(\"no match\")"
   ]
  },
  {
   "cell_type": "code",
   "execution_count": null,
   "metadata": {},
   "outputs": [],
   "source": [
    "pat()"
   ]
  },
  {
   "cell_type": "code",
   "execution_count": null,
   "metadata": {},
   "outputs": [],
   "source": [
    "word= input(\"Mention the required word: \")\n",
    "need= re.match(\"ab.*\",word)\n",
    "if need:\n",
    "  print(\"Yes! The criteria is matched.\")\n",
    "else:\n",
    "  print(\"Sorry but the criteria didn't match.\")"
   ]
  },
  {
   "cell_type": "code",
   "execution_count": null,
   "metadata": {},
   "outputs": [],
   "source": [
    "def email_validator(mail):\n",
    "  if len(mail)<=100:\n",
    "    valid=re.match(\"[\\w]+@[a-z]{3,6}[.][a-z]{3,5}$\",mail)\n",
    "    if valid:\n",
    "      print(\"Valid email\")\n",
    "    else:\n",
    "      print(\"Invalid email\")\n",
    "mail=input(\"Enter email: \")\n",
    "email_validator(mail)"
   ]
  },
  {
   "cell_type": "code",
   "execution_count": null,
   "metadata": {},
   "outputs": [],
   "source": [
    "raw_data = \"0--1--1---9--9--9--9--9--9--9--9--9--9\"\n",
    "asd = re.sub('--','',raw_data)\n",
    "print(asd)"
   ]
  },
  {
   "cell_type": "code",
   "execution_count": null,
   "metadata": {},
   "outputs": [],
   "source": [
    "raw_data = \"0--1--1-a9-b9-c9-d9-e9-f9-g9-h9-i9-j9\"\n",
    "data_pr = re.findall(\"\\d\",raw_data)\n",
    "data_out = \"\".join(data_pr[:3])+\"-\"+\"\".join(data_pr[3:])\n",
    "print(data_out)"
   ]
  },
  {
   "cell_type": "code",
   "execution_count": null,
   "metadata": {},
   "outputs": [],
   "source": [
    "rd = \"0--1--1-a9-b9-c9-d9-e9-f9-g9-h9-i9-j9\"\n",
    "d=re.findall('\\d',rd)\n",
    "o=''\n",
    "count=0\n",
    "for i in d:\n",
    "  if count==3:\n",
    "    o+='-'\n",
    "  else:\n",
    "    o+=i\n",
    "  count+=1\n",
    "print(o)"
   ]
  },
  {
   "cell_type": "code",
   "execution_count": null,
   "metadata": {},
   "outputs": [],
   "source": [
    "raw_data = \"0--1--1-a9-b9-c9-d9-e9-f9-g9-h9-i9-j9\"\n",
    "''.join(re.split(\"--|a|-b|-c|-d|-e|-f|-g|-h|-i|-j\",raw_data))"
   ]
  }
 ],
 "metadata": {
  "kernelspec": {
   "display_name": "Python 3",
   "language": "python",
   "name": "python3"
  },
  "language_info": {
   "codemirror_mode": {
    "name": "ipython",
    "version": 3
   },
   "file_extension": ".py",
   "mimetype": "text/x-python",
   "name": "python",
   "nbconvert_exporter": "python",
   "pygments_lexer": "ipython3",
   "version": "3.11.6"
  }
 },
 "nbformat": 4,
 "nbformat_minor": 2
}
