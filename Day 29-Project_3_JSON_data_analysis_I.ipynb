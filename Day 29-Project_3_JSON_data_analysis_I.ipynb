{
  "nbformat": 4,
  "nbformat_minor": 0,
  "metadata": {
    "colab": {
      "provenance": []
    },
    "kernelspec": {
      "name": "python3",
      "display_name": "Python 3"
    },
    "language_info": {
      "name": "python"
    }
  },
  "cells": [
    {
      "cell_type": "markdown",
      "source": [
        "Import Libraries"
      ],
      "metadata": {
        "id": "ZkPXIvHZqiVB"
      }
    },
    {
      "cell_type": "code",
      "execution_count": 3,
      "metadata": {
        "id": "ZYjD_9e6qUxg"
      },
      "outputs": [],
      "source": [
        "# Numpy\n",
        "import numpy as np\n",
        "\n",
        "# Pandas\n",
        "import pandas as pd\n",
        "\n",
        "# Matplotlib\n",
        "import matplotlib.pyplot as plt\n",
        "\n",
        "# Seaborn\n",
        "import seaborn as sns\n",
        "\n",
        "# RegEx\n",
        "import re\n",
        "\n",
        "# Beautiful Soup for data Abstraction\n",
        "from bs4 import BeautifulSoup\n",
        "\n",
        "# Requests for Web Scraping\n",
        "import requests\n",
        "\n"
      ]
    },
    {
      "cell_type": "markdown",
      "source": [
        "Steps\n",
        "\n",
        "1. Converting the JSON data into a DataFrame\n",
        "2. Explore the data\n",
        "3. Clean & Manipulate the data\n",
        "4. Analysis of Data\n",
        "5. Conclusion"
      ],
      "metadata": {
        "id": "_IIGUVx9qqAE"
      }
    },
    {
      "cell_type": "markdown",
      "source": [
        "1. Converting the JSON data into a DataFrame\n",
        "\n",
        "JSON Data URL: https://raw.githubusercontent.com/ozlerhakan/mongodb-json-files/master/datasets/grades.json"
      ],
      "metadata": {
        "id": "2qSj61oWqu9C"
      }
    },
    {
      "cell_type": "code",
      "source": [
        "url = \"https://raw.githubusercontent.com/ozlerhakan/mongodb-json-files/master/datasets/grades.json\"\n",
        "req = requests.get(url)"
      ],
      "metadata": {
        "id": "9Twhfcfpqywo"
      },
      "execution_count": 2,
      "outputs": []
    },
    {
      "cell_type": "code",
      "source": [
        "req"
      ],
      "metadata": {
        "id": "LMU-A_OPrSTh"
      },
      "execution_count": null,
      "outputs": []
    },
    {
      "cell_type": "code",
      "source": [
        "soup = BeautifulSoup(req.content)"
      ],
      "metadata": {
        "id": "25ihpoUMrSK9"
      },
      "execution_count": null,
      "outputs": []
    },
    {
      "cell_type": "code",
      "source": [
        "soup"
      ],
      "metadata": {
        "id": "wJ3k6HIXtAiM"
      },
      "execution_count": null,
      "outputs": []
    },
    {
      "cell_type": "code",
      "source": [
        "df = pd.read_json(\"https://raw.githubusercontent.com/ozlerhakan/mongodb-json-files/master/datasets/grades.json\", lines=True)"
      ],
      "metadata": {
        "id": "no-SEvTZtBfE"
      },
      "execution_count": null,
      "outputs": []
    },
    {
      "cell_type": "code",
      "source": [
        "df"
      ],
      "metadata": {
        "id": "N8fdTL-DtGb_"
      },
      "execution_count": null,
      "outputs": []
    },
    {
      "cell_type": "code",
      "source": [
        "df.info()"
      ],
      "metadata": {
        "id": "PCT6Qlz-tgn7"
      },
      "execution_count": null,
      "outputs": []
    },
    {
      "cell_type": "code",
      "source": [
        "for i in range(len(df._id)):\n",
        "  df._id[i] = re.sub(\"^{.* '|'}\",'',str(df._id[i]))"
      ],
      "metadata": {
        "id": "qXYcoCyRQ65s"
      },
      "execution_count": null,
      "outputs": []
    },
    {
      "cell_type": "code",
      "source": [
        "df"
      ],
      "metadata": {
        "id": "cYMaxsGFQ62h"
      },
      "execution_count": null,
      "outputs": []
    },
    {
      "cell_type": "code",
      "source": [
        "df.scores[0]"
      ],
      "metadata": {
        "id": "YQ2qREDmQ6yZ"
      },
      "execution_count": null,
      "outputs": []
    },
    {
      "cell_type": "markdown",
      "source": [
        "Now let's try to make 3 Columns -> exam_score, quiz_score, homework_score\n",
        "\n",
        "Final output -> id, student_id, class id, exam_score, quiz_score, homework_score"
      ],
      "metadata": {
        "id": "8kWGZFoERDUD"
      }
    },
    {
      "cell_type": "code",
      "source": [
        "# List Comprehension\n",
        "exam_score = [round(float(re.sub('^{.*: |}','',str(df['scores'][i][0]))),2) for i in range(len(df['scores']))]\n",
        "quiz_score = [round(float(re.sub('^{.*: |}','',str(df['scores'][i][1]))),2) for i in range(len(df['scores']))]\n",
        "homework_score=[round(sum(list(map(float,re.findall('\\d+.\\d+',str(df['scores'][i][2:])))))/len(list(map(float,re.findall('\\d+.\\d+',str(df['scores'][i][2:]))))),2) for i in range(len(df['scores']))]"
      ],
      "metadata": {
        "id": "A9urOwXGRI34"
      },
      "execution_count": null,
      "outputs": []
    },
    {
      "cell_type": "code",
      "source": [
        "print(exam_score)\n",
        "print(quiz_score)\n",
        "print(homework_score)"
      ],
      "metadata": {
        "id": "9_9nLti_RIwy"
      },
      "execution_count": null,
      "outputs": []
    },
    {
      "cell_type": "code",
      "source": [
        "# Assignment\n",
        "df['scores'][:][1]"
      ],
      "metadata": {
        "id": "rCcugec3Q6tY"
      },
      "execution_count": null,
      "outputs": []
    },
    {
      "cell_type": "code",
      "source": [
        "new_df = pd.DataFrame({\"id\":df['_id'], \"student_id\":df['student_id'], \"class_id\":df['class_id'],\n",
        "                       \"exam_score\":exam_score,\"quiz_score\":quiz_score, \"homework_score\":homework_score})"
      ],
      "metadata": {
        "id": "9KUYeBw5RVpi"
      },
      "execution_count": null,
      "outputs": []
    },
    {
      "cell_type": "code",
      "source": [
        "new_df"
      ],
      "metadata": {
        "id": "lh5u5BRtRVjj"
      },
      "execution_count": null,
      "outputs": []
    },
    {
      "cell_type": "code",
      "source": [
        "new_df.info()"
      ],
      "metadata": {
        "id": "Y-cHJfbdRVby"
      },
      "execution_count": null,
      "outputs": []
    },
    {
      "cell_type": "code",
      "source": [
        "new_df.describe()"
      ],
      "metadata": {
        "id": "N-R7xpACRVXA"
      },
      "execution_count": null,
      "outputs": []
    },
    {
      "cell_type": "code",
      "source": [
        "new_df.drop(['student_id'],inplace=True,axis=1)"
      ],
      "metadata": {
        "id": "8xutGrJ-Rfu_"
      },
      "execution_count": null,
      "outputs": []
    },
    {
      "cell_type": "code",
      "source": [
        "new_df"
      ],
      "metadata": {
        "id": "oOL2T-GbRfsf"
      },
      "execution_count": null,
      "outputs": []
    },
    {
      "cell_type": "markdown",
      "source": [
        "You use pie chart when overall composition is 100%\n",
        "* To find relationship between two entities you will use scatter chart"
      ],
      "metadata": {
        "id": "wNsOxJ54Rmnf"
      }
    },
    {
      "cell_type": "code",
      "source": [
        "x = new_df.exam_score\n",
        "y = new_df.homework_score\n",
        "plt.scatter(x,y)\n",
        "plt.xlabel('Exam Score')\n",
        "plt.ylabel('Homework Score')\n",
        "plt.title('Exam Score V/S Homework Score')\n",
        "plt.show()"
      ],
      "metadata": {
        "id": "CyIV88q2RsNk"
      },
      "execution_count": null,
      "outputs": []
    }
  ]
}